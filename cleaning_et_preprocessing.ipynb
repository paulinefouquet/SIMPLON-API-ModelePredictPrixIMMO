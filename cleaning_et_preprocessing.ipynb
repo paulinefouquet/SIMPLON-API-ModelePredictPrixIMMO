{
 "cells": [
  {
   "cell_type": "code",
   "execution_count": 30,
   "id": "a8899033-a697-4127-be6c-a6bd512e34ae",
   "metadata": {
    "tags": []
   },
   "outputs": [],
   "source": [
    "import pandas as pd\n",
    "import numpy as np"
   ]
  },
  {
   "cell_type": "code",
   "execution_count": 31,
   "id": "505c7de3-82a7-4e5b-9a19-2a88f24f7d9f",
   "metadata": {
    "tags": []
   },
   "outputs": [],
   "source": [
    "df = pd.read_csv('transactions.csv')\n",
    "\n",
    "if 'Unnamed: 0' in df.columns:\n",
    "    df = df.drop('Unnamed: 0', axis=1)\n",
    "    \n",
    "df['prix_m2'] = df['prix'] / (df['surface_habitable'])\n",
    "df['type_bat'] = np.where(df['type_batiment'].values == 'Appartement',1,0)"
   ]
  },
  {
   "cell_type": "code",
   "execution_count": 32,
   "id": "09bdfb2e-7e6f-4c85-9f9c-bde17155cb55",
   "metadata": {
    "tags": []
   },
   "outputs": [
    {
     "name": "stderr",
     "output_type": "stream",
     "text": [
      "C:\\Users\\Utilisateur\\AppData\\Local\\Temp\\ipykernel_1592\\2021526113.py:6: SettingWithCopyWarning: \n",
      "A value is trying to be set on a copy of a slice from a DataFrame.\n",
      "Try using .loc[row_indexer,col_indexer] = value instead\n",
      "\n",
      "See the caveats in the documentation: https://pandas.pydata.org/pandas-docs/stable/user_guide/indexing.html#returning-a-view-versus-a-copy\n",
      "  idf_df[c + '_sum'] = idf_df[c].apply(lambda x: sum(eval(x)) if 'NULL' not in x else 0)\n",
      "C:\\Users\\Utilisateur\\AppData\\Local\\Temp\\ipykernel_1592\\2021526113.py:6: SettingWithCopyWarning: \n",
      "A value is trying to be set on a copy of a slice from a DataFrame.\n",
      "Try using .loc[row_indexer,col_indexer] = value instead\n",
      "\n",
      "See the caveats in the documentation: https://pandas.pydata.org/pandas-docs/stable/user_guide/indexing.html#returning-a-view-versus-a-copy\n",
      "  idf_df[c + '_sum'] = idf_df[c].apply(lambda x: sum(eval(x)) if 'NULL' not in x else 0)\n",
      "C:\\Users\\Utilisateur\\AppData\\Local\\Temp\\ipykernel_1592\\2021526113.py:6: SettingWithCopyWarning: \n",
      "A value is trying to be set on a copy of a slice from a DataFrame.\n",
      "Try using .loc[row_indexer,col_indexer] = value instead\n",
      "\n",
      "See the caveats in the documentation: https://pandas.pydata.org/pandas-docs/stable/user_guide/indexing.html#returning-a-view-versus-a-copy\n",
      "  idf_df[c + '_sum'] = idf_df[c].apply(lambda x: sum(eval(x)) if 'NULL' not in x else 0)\n",
      "C:\\Users\\Utilisateur\\AppData\\Local\\Temp\\ipykernel_1592\\2021526113.py:6: SettingWithCopyWarning: \n",
      "A value is trying to be set on a copy of a slice from a DataFrame.\n",
      "Try using .loc[row_indexer,col_indexer] = value instead\n",
      "\n",
      "See the caveats in the documentation: https://pandas.pydata.org/pandas-docs/stable/user_guide/indexing.html#returning-a-view-versus-a-copy\n",
      "  idf_df[c + '_sum'] = idf_df[c].apply(lambda x: sum(eval(x)) if 'NULL' not in x else 0)\n",
      "C:\\Users\\Utilisateur\\AppData\\Local\\Temp\\ipykernel_1592\\2021526113.py:6: SettingWithCopyWarning: \n",
      "A value is trying to be set on a copy of a slice from a DataFrame.\n",
      "Try using .loc[row_indexer,col_indexer] = value instead\n",
      "\n",
      "See the caveats in the documentation: https://pandas.pydata.org/pandas-docs/stable/user_guide/indexing.html#returning-a-view-versus-a-copy\n",
      "  idf_df[c + '_sum'] = idf_df[c].apply(lambda x: sum(eval(x)) if 'NULL' not in x else 0)\n"
     ]
    }
   ],
   "source": [
    "idf_df = df[(df.departement.isin([75, 77, 78, 91, 92, 93, 94, 95])) & (df.date_transaction.str.startswith('2022-'))]\n",
    "\n",
    "#filtre des données avec des surfaces de dépendances                                 \n",
    "surface_cols = [c for c in idf_df.columns if 'surface_' in c and c != 'surface_habitable']\n",
    "for c in surface_cols:\n",
    "    idf_df[c + '_sum'] = idf_df[c].apply(lambda x: sum(eval(x)) if 'NULL' not in x else 0)\n",
    "idf_df = idf_df[idf_df[[c + '_sum' for c in surface_cols]].sum(axis=1) == 0]"
   ]
  },
  {
   "cell_type": "code",
   "execution_count": 33,
   "id": "67151622-1fba-419d-943a-a66b03b05e66",
   "metadata": {
    "tags": []
   },
   "outputs": [
    {
     "data": {
      "text/html": [
       "<div>\n",
       "<style scoped>\n",
       "    .dataframe tbody tr th:only-of-type {\n",
       "        vertical-align: middle;\n",
       "    }\n",
       "\n",
       "    .dataframe tbody tr th {\n",
       "        vertical-align: top;\n",
       "    }\n",
       "\n",
       "    .dataframe thead th {\n",
       "        text-align: right;\n",
       "    }\n",
       "</style>\n",
       "<table border=\"1\" class=\"dataframe\">\n",
       "  <thead>\n",
       "    <tr style=\"text-align: right;\">\n",
       "      <th></th>\n",
       "      <th>id_transaction</th>\n",
       "      <th>date_transaction</th>\n",
       "      <th>prix</th>\n",
       "      <th>departement</th>\n",
       "      <th>id_ville</th>\n",
       "      <th>ville</th>\n",
       "      <th>code_postal</th>\n",
       "      <th>adresse</th>\n",
       "      <th>type_batiment</th>\n",
       "      <th>vefa</th>\n",
       "      <th>...</th>\n",
       "      <th>surface_terrains_agricoles</th>\n",
       "      <th>surface_terrains_sols</th>\n",
       "      <th>surface_terrains_nature</th>\n",
       "      <th>prix_m2</th>\n",
       "      <th>type_bat</th>\n",
       "      <th>surface_dependances_sum</th>\n",
       "      <th>surface_locaux_industriels_sum</th>\n",
       "      <th>surface_terrains_agricoles_sum</th>\n",
       "      <th>surface_terrains_sols_sum</th>\n",
       "      <th>surface_terrains_nature_sum</th>\n",
       "    </tr>\n",
       "  </thead>\n",
       "  <tbody>\n",
       "    <tr>\n",
       "      <th>6043985</th>\n",
       "      <td>10040024</td>\n",
       "      <td>2022-01-03</td>\n",
       "      <td>329910.0</td>\n",
       "      <td>75</td>\n",
       "      <td>112</td>\n",
       "      <td>PARIS 12</td>\n",
       "      <td>75012</td>\n",
       "      <td>260 AV DAUMESNIL</td>\n",
       "      <td>Appartement</td>\n",
       "      <td>False</td>\n",
       "      <td>...</td>\n",
       "      <td>{}</td>\n",
       "      <td>{}</td>\n",
       "      <td>{}</td>\n",
       "      <td>10997.000000</td>\n",
       "      <td>1</td>\n",
       "      <td>0</td>\n",
       "      <td>0</td>\n",
       "      <td>0</td>\n",
       "      <td>0</td>\n",
       "      <td>0</td>\n",
       "    </tr>\n",
       "    <tr>\n",
       "      <th>6043986</th>\n",
       "      <td>10035062</td>\n",
       "      <td>2022-01-03</td>\n",
       "      <td>302400.0</td>\n",
       "      <td>75</td>\n",
       "      <td>102</td>\n",
       "      <td>PARIS 02</td>\n",
       "      <td>75002</td>\n",
       "      <td>52 RUE GRENETA</td>\n",
       "      <td>Appartement</td>\n",
       "      <td>False</td>\n",
       "      <td>...</td>\n",
       "      <td>{}</td>\n",
       "      <td>{}</td>\n",
       "      <td>{}</td>\n",
       "      <td>11630.769231</td>\n",
       "      <td>1</td>\n",
       "      <td>0</td>\n",
       "      <td>0</td>\n",
       "      <td>0</td>\n",
       "      <td>0</td>\n",
       "      <td>0</td>\n",
       "    </tr>\n",
       "    <tr>\n",
       "      <th>6043987</th>\n",
       "      <td>10036657</td>\n",
       "      <td>2022-01-03</td>\n",
       "      <td>665000.0</td>\n",
       "      <td>75</td>\n",
       "      <td>117</td>\n",
       "      <td>PARIS 17</td>\n",
       "      <td>75017</td>\n",
       "      <td>26 BD DES BATIGNOLLES</td>\n",
       "      <td>Appartement</td>\n",
       "      <td>False</td>\n",
       "      <td>...</td>\n",
       "      <td>{}</td>\n",
       "      <td>{}</td>\n",
       "      <td>{}</td>\n",
       "      <td>11271.186441</td>\n",
       "      <td>1</td>\n",
       "      <td>0</td>\n",
       "      <td>0</td>\n",
       "      <td>0</td>\n",
       "      <td>0</td>\n",
       "      <td>0</td>\n",
       "    </tr>\n",
       "    <tr>\n",
       "      <th>6043988</th>\n",
       "      <td>10035700</td>\n",
       "      <td>2022-01-03</td>\n",
       "      <td>965000.0</td>\n",
       "      <td>75</td>\n",
       "      <td>105</td>\n",
       "      <td>PARIS 05</td>\n",
       "      <td>75005</td>\n",
       "      <td>31 RUE CENSIER</td>\n",
       "      <td>Appartement</td>\n",
       "      <td>False</td>\n",
       "      <td>...</td>\n",
       "      <td>{}</td>\n",
       "      <td>{}</td>\n",
       "      <td>{}</td>\n",
       "      <td>15317.460317</td>\n",
       "      <td>1</td>\n",
       "      <td>0</td>\n",
       "      <td>0</td>\n",
       "      <td>0</td>\n",
       "      <td>0</td>\n",
       "      <td>0</td>\n",
       "    </tr>\n",
       "    <tr>\n",
       "      <th>6043989</th>\n",
       "      <td>10029380</td>\n",
       "      <td>2022-01-03</td>\n",
       "      <td>200000.0</td>\n",
       "      <td>75</td>\n",
       "      <td>110</td>\n",
       "      <td>PARIS 10</td>\n",
       "      <td>75010</td>\n",
       "      <td>37 RUE DE PARADIS</td>\n",
       "      <td>Appartement</td>\n",
       "      <td>False</td>\n",
       "      <td>...</td>\n",
       "      <td>{}</td>\n",
       "      <td>{}</td>\n",
       "      <td>{}</td>\n",
       "      <td>10526.315789</td>\n",
       "      <td>1</td>\n",
       "      <td>0</td>\n",
       "      <td>0</td>\n",
       "      <td>0</td>\n",
       "      <td>0</td>\n",
       "      <td>0</td>\n",
       "    </tr>\n",
       "  </tbody>\n",
       "</table>\n",
       "<p>5 rows × 27 columns</p>\n",
       "</div>"
      ],
      "text/plain": [
       "         id_transaction date_transaction      prix  departement  id_ville  \\\n",
       "6043985        10040024       2022-01-03  329910.0           75       112   \n",
       "6043986        10035062       2022-01-03  302400.0           75       102   \n",
       "6043987        10036657       2022-01-03  665000.0           75       117   \n",
       "6043988        10035700       2022-01-03  965000.0           75       105   \n",
       "6043989        10029380       2022-01-03  200000.0           75       110   \n",
       "\n",
       "            ville  code_postal                adresse type_batiment   vefa  \\\n",
       "6043985  PARIS 12        75012       260 AV DAUMESNIL   Appartement  False   \n",
       "6043986  PARIS 02        75002         52 RUE GRENETA   Appartement  False   \n",
       "6043987  PARIS 17        75017  26 BD DES BATIGNOLLES   Appartement  False   \n",
       "6043988  PARIS 05        75005         31 RUE CENSIER   Appartement  False   \n",
       "6043989  PARIS 10        75010      37 RUE DE PARADIS   Appartement  False   \n",
       "\n",
       "         ...  surface_terrains_agricoles  surface_terrains_sols  \\\n",
       "6043985  ...                          {}                     {}   \n",
       "6043986  ...                          {}                     {}   \n",
       "6043987  ...                          {}                     {}   \n",
       "6043988  ...                          {}                     {}   \n",
       "6043989  ...                          {}                     {}   \n",
       "\n",
       "        surface_terrains_nature       prix_m2  type_bat  \\\n",
       "6043985                      {}  10997.000000         1   \n",
       "6043986                      {}  11630.769231         1   \n",
       "6043987                      {}  11271.186441         1   \n",
       "6043988                      {}  15317.460317         1   \n",
       "6043989                      {}  10526.315789         1   \n",
       "\n",
       "        surface_dependances_sum surface_locaux_industriels_sum  \\\n",
       "6043985                       0                              0   \n",
       "6043986                       0                              0   \n",
       "6043987                       0                              0   \n",
       "6043988                       0                              0   \n",
       "6043989                       0                              0   \n",
       "\n",
       "        surface_terrains_agricoles_sum surface_terrains_sols_sum  \\\n",
       "6043985                              0                         0   \n",
       "6043986                              0                         0   \n",
       "6043987                              0                         0   \n",
       "6043988                              0                         0   \n",
       "6043989                              0                         0   \n",
       "\n",
       "        surface_terrains_nature_sum  \n",
       "6043985                           0  \n",
       "6043986                           0  \n",
       "6043987                           0  \n",
       "6043988                           0  \n",
       "6043989                           0  \n",
       "\n",
       "[5 rows x 27 columns]"
      ]
     },
     "execution_count": 33,
     "metadata": {},
     "output_type": "execute_result"
    }
   ],
   "source": [
    "idf_df.head()"
   ]
  },
  {
   "cell_type": "code",
   "execution_count": 34,
   "id": "315069ca-2cf1-4910-8ab9-b9e90a1220ce",
   "metadata": {
    "tags": []
   },
   "outputs": [
    {
     "data": {
      "text/plain": [
       "Index(['id_transaction', 'date_transaction', 'prix', 'departement', 'id_ville',\n",
       "       'ville', 'code_postal', 'adresse', 'type_batiment', 'vefa', 'n_pieces',\n",
       "       'surface_habitable', 'id_parcelle_cadastre', 'latitude', 'longitude',\n",
       "       'surface_dependances', 'surface_locaux_industriels',\n",
       "       'surface_terrains_agricoles', 'surface_terrains_sols',\n",
       "       'surface_terrains_nature', 'prix_m2', 'type_bat',\n",
       "       'surface_dependances_sum', 'surface_locaux_industriels_sum',\n",
       "       'surface_terrains_agricoles_sum', 'surface_terrains_sols_sum',\n",
       "       'surface_terrains_nature_sum'],\n",
       "      dtype='object')"
      ]
     },
     "execution_count": 34,
     "metadata": {},
     "output_type": "execute_result"
    }
   ],
   "source": [
    "idf_df.columns"
   ]
  },
  {
   "cell_type": "code",
   "execution_count": 35,
   "id": "9daf1cf5-d088-4902-8e26-91bedde87209",
   "metadata": {
    "tags": []
   },
   "outputs": [
    {
     "data": {
      "text/plain": [
       "(118624, 27)"
      ]
     },
     "execution_count": 35,
     "metadata": {},
     "output_type": "execute_result"
    }
   ],
   "source": [
    "idf_df.shape"
   ]
  },
  {
   "cell_type": "code",
   "execution_count": 36,
   "id": "f0426b36-a90e-432b-a09c-b3b343423ed7",
   "metadata": {
    "tags": []
   },
   "outputs": [
    {
     "data": {
      "text/plain": [
       "array([75, 77, 78, 91, 92, 93, 94, 95], dtype=int64)"
      ]
     },
     "execution_count": 36,
     "metadata": {},
     "output_type": "execute_result"
    }
   ],
   "source": [
    "idf_df.departement.unique()"
   ]
  },
  {
   "cell_type": "code",
   "execution_count": 37,
   "id": "27012383-4648-4062-9c56-1f8bdbdc2740",
   "metadata": {
    "tags": []
   },
   "outputs": [],
   "source": [
    "idf_df.to_csv('transactions_idf.csv', index= False)"
   ]
  }
 ],
 "metadata": {
  "kernelspec": {
   "display_name": "Python 3 (ipykernel)",
   "language": "python",
   "name": "python3"
  },
  "language_info": {
   "codemirror_mode": {
    "name": "ipython",
    "version": 3
   },
   "file_extension": ".py",
   "mimetype": "text/x-python",
   "name": "python",
   "nbconvert_exporter": "python",
   "pygments_lexer": "ipython3",
   "version": "3.11.5"
  }
 },
 "nbformat": 4,
 "nbformat_minor": 5
}
